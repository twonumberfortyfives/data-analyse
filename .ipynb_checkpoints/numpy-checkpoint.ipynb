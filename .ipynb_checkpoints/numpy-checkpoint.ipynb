{
 "cells": [
  {
   "cell_type": "code",
   "id": "initial_id",
   "metadata": {
    "collapsed": true,
    "ExecuteTime": {
     "end_time": "2024-11-18T15:15:18.454Z",
     "start_time": "2024-11-18T15:15:18.343210Z"
    }
   },
   "source": [
    "import sys\n",
    "import numpy as np\n",
    "\n",
    "arr = [0] * 1000"
   ],
   "outputs": [],
   "execution_count": 1
  },
  {
   "metadata": {
    "ExecuteTime": {
     "end_time": "2024-11-18T15:15:24.963766Z",
     "start_time": "2024-11-18T15:15:24.957347Z"
    }
   },
   "cell_type": "code",
   "source": "sys.getsizeof(arr)",
   "id": "d8df1061bfe1cbb4",
   "outputs": [
    {
     "data": {
      "text/plain": [
       "8056"
      ]
     },
     "execution_count": 2,
     "metadata": {},
     "output_type": "execute_result"
    }
   ],
   "execution_count": 2
  },
  {
   "metadata": {
    "ExecuteTime": {
     "end_time": "2024-11-18T15:15:42.818003Z",
     "start_time": "2024-11-18T15:15:42.812778Z"
    }
   },
   "cell_type": "code",
   "source": "sys.getsizeof(np.array(arr, dtype=np.int8))",
   "id": "36389ad99cc25275",
   "outputs": [
    {
     "data": {
      "text/plain": [
       "1112"
      ]
     },
     "execution_count": 3,
     "metadata": {},
     "output_type": "execute_result"
    }
   ],
   "execution_count": 3
  },
  {
   "metadata": {
    "ExecuteTime": {
     "end_time": "2024-11-18T15:17:28.563916Z",
     "start_time": "2024-11-18T15:17:28.558595Z"
    }
   },
   "cell_type": "code",
   "source": "np.int8",
   "id": "d1dd926294ae564f",
   "outputs": [
    {
     "data": {
      "text/plain": [
       "numpy.int8"
      ]
     },
     "execution_count": 16,
     "metadata": {},
     "output_type": "execute_result"
    }
   ],
   "execution_count": 16
  },
  {
   "metadata": {},
   "cell_type": "code",
   "source": "np.array([3, 1, 5])",
   "id": "4bbed7a2b0409ea9",
   "outputs": [],
   "execution_count": null
  },
  {
   "metadata": {},
   "cell_type": "code",
   "outputs": [],
   "execution_count": null,
   "source": [
    "a = np.array([1, 2, 3, 4, 5])\n",
    "b = np.array([0, .5, 1, 1.5, 2])"
   ],
   "id": "73cf4f7376887cbb"
  },
  {
   "metadata": {},
   "cell_type": "code",
   "outputs": [],
   "execution_count": null,
   "source": "a.dtype",
   "id": "1e03306d24178287"
  },
  {
   "metadata": {},
   "cell_type": "code",
   "outputs": [],
   "execution_count": null,
   "source": "a[0], a[1]",
   "id": "1012eeafaa95074c"
  }
 ],
 "metadata": {
  "kernelspec": {
   "display_name": "Python 3",
   "language": "python",
   "name": "python3"
  },
  "language_info": {
   "codemirror_mode": {
    "name": "ipython",
    "version": 2
   },
   "file_extension": ".py",
   "mimetype": "text/x-python",
   "name": "python",
   "nbconvert_exporter": "python",
   "pygments_lexer": "ipython2",
   "version": "2.7.6"
  }
 },
 "nbformat": 4,
 "nbformat_minor": 5
}
