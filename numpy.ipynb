{
 "cells": [
  {
   "cell_type": "code",
   "id": "initial_id",
   "metadata": {
    "collapsed": true,
    "ExecuteTime": {
     "end_time": "2024-11-18T15:22:16.581610Z",
     "start_time": "2024-11-18T15:22:16.106584Z"
    }
   },
   "source": [
    "import sys\n",
    "import numpy as np\n",
    "import pandas as pd\n",
    "\n",
    "arr = [0] * 1000"
   ],
   "outputs": [],
   "execution_count": 21
  },
  {
   "metadata": {
    "ExecuteTime": {
     "end_time": "2024-11-18T15:15:24.963766Z",
     "start_time": "2024-11-18T15:15:24.957347Z"
    }
   },
   "cell_type": "code",
   "source": "sys.getsizeof(arr)",
   "id": "d8df1061bfe1cbb4",
   "outputs": [
    {
     "data": {
      "text/plain": [
       "8056"
      ]
     },
     "execution_count": 2,
     "metadata": {},
     "output_type": "execute_result"
    }
   ],
   "execution_count": 2
  },
  {
   "metadata": {
    "ExecuteTime": {
     "end_time": "2024-11-18T15:15:42.818003Z",
     "start_time": "2024-11-18T15:15:42.812778Z"
    }
   },
   "cell_type": "code",
   "source": "sys.getsizeof(np.array(arr, dtype=np.int8))",
   "id": "36389ad99cc25275",
   "outputs": [
    {
     "data": {
      "text/plain": [
       "1112"
      ]
     },
     "execution_count": 3,
     "metadata": {},
     "output_type": "execute_result"
    }
   ],
   "execution_count": 3
  },
  {
   "metadata": {
    "ExecuteTime": {
     "end_time": "2024-11-18T15:17:28.563916Z",
     "start_time": "2024-11-18T15:17:28.558595Z"
    }
   },
   "cell_type": "code",
   "source": "np.int8",
   "id": "d1dd926294ae564f",
   "outputs": [
    {
     "data": {
      "text/plain": [
       "numpy.int8"
      ]
     },
     "execution_count": 16,
     "metadata": {},
     "output_type": "execute_result"
    }
   ],
   "execution_count": 16
  },
  {
   "metadata": {
    "ExecuteTime": {
     "end_time": "2024-11-18T15:22:24.352883Z",
     "start_time": "2024-11-18T15:22:24.342637Z"
    }
   },
   "cell_type": "code",
   "source": [
    "np.array([3, 1, 5])\n",
    "df = pd.DataFrame([3, 1, 5], columns=[\"Value\"])\n",
    "df"
   ],
   "id": "4bbed7a2b0409ea9",
   "outputs": [
    {
     "data": {
      "text/plain": [
       "   Value\n",
       "0      3\n",
       "1      1\n",
       "2      5"
      ],
      "text/html": [
       "<div>\n",
       "<style scoped>\n",
       "    .dataframe tbody tr th:only-of-type {\n",
       "        vertical-align: middle;\n",
       "    }\n",
       "\n",
       "    .dataframe tbody tr th {\n",
       "        vertical-align: top;\n",
       "    }\n",
       "\n",
       "    .dataframe thead th {\n",
       "        text-align: right;\n",
       "    }\n",
       "</style>\n",
       "<table border=\"1\" class=\"dataframe\">\n",
       "  <thead>\n",
       "    <tr style=\"text-align: right;\">\n",
       "      <th></th>\n",
       "      <th>Value</th>\n",
       "    </tr>\n",
       "  </thead>\n",
       "  <tbody>\n",
       "    <tr>\n",
       "      <th>0</th>\n",
       "      <td>3</td>\n",
       "    </tr>\n",
       "    <tr>\n",
       "      <th>1</th>\n",
       "      <td>1</td>\n",
       "    </tr>\n",
       "    <tr>\n",
       "      <th>2</th>\n",
       "      <td>5</td>\n",
       "    </tr>\n",
       "  </tbody>\n",
       "</table>\n",
       "</div>"
      ]
     },
     "execution_count": 24,
     "metadata": {},
     "output_type": "execute_result"
    }
   ],
   "execution_count": 24
  },
  {
   "metadata": {
    "ExecuteTime": {
     "end_time": "2024-11-18T16:38:49.522595Z",
     "start_time": "2024-11-18T16:38:49.516077Z"
    }
   },
   "cell_type": "code",
   "source": [
    "a = np.array([1, 2, 3, 4, 5, 6])\n",
    "b = np.array([0, .5, 1, 1.5, 2, 6])\n",
    "\n",
    "sum_array = a + b\n",
    "\n",
    "my_array = np.array([1, 2, 3, 4, 5, 6])\n",
    "\n",
    "c = np.array([\n",
    "    [1, 2, 3],\n",
    "    [4, 5, 6],\n",
    "    [7, 8, 9]\n",
    "])\n",
    "\n",
    "c.sum(axis=1)  # there is only two axis cause its 2 dimension array. so axis=0 - first dimension and axis=2 - second dimension.\n",
    "c.std()  # std - standard deviation - стандартное отклонение. It is standard deviation of each number from average value.\n",
    "\n",
    "c.var() # variance - as big it is as different values are among each other. Дисперсия.\n",
    "\n",
    "c + 10  # == list comprehension in python arrays. broadcasting and vectorized operations (really fasta operations with every object in the array)"
   ],
   "id": "73cf4f7376887cbb",
   "outputs": [
    {
     "data": {
      "text/plain": [
       "array([[11, 12, 13],\n",
       "       [14, 15, 16],\n",
       "       [17, 18, 19]])"
      ]
     },
     "execution_count": 164,
     "metadata": {},
     "output_type": "execute_result"
    }
   ],
   "execution_count": 164
  },
  {
   "metadata": {
    "ExecuteTime": {
     "end_time": "2024-11-18T15:25:19.949775Z",
     "start_time": "2024-11-18T15:25:19.944910Z"
    }
   },
   "cell_type": "code",
   "source": "a.dtype",
   "id": "1e03306d24178287",
   "outputs": [
    {
     "data": {
      "text/plain": [
       "dtype('int64')"
      ]
     },
     "execution_count": 28,
     "metadata": {},
     "output_type": "execute_result"
    }
   ],
   "execution_count": 28
  },
  {
   "metadata": {
    "ExecuteTime": {
     "end_time": "2024-11-18T15:34:19.359088Z",
     "start_time": "2024-11-18T15:34:19.350595Z"
    }
   },
   "cell_type": "code",
   "source": [
    "zeros_array = np.zeros((3, 4))\n",
    "df = pd.DataFrame(zeros_array, columns=[\"first\", \"second\", \"third\", \"fourth\"])\n",
    "df"
   ],
   "id": "1012eeafaa95074c",
   "outputs": [
    {
     "data": {
      "text/plain": [
       "   first  second  third  fourth\n",
       "0    0.0     0.0    0.0     0.0\n",
       "1    0.0     0.0    0.0     0.0\n",
       "2    0.0     0.0    0.0     0.0"
      ],
      "text/html": [
       "<div>\n",
       "<style scoped>\n",
       "    .dataframe tbody tr th:only-of-type {\n",
       "        vertical-align: middle;\n",
       "    }\n",
       "\n",
       "    .dataframe tbody tr th {\n",
       "        vertical-align: top;\n",
       "    }\n",
       "\n",
       "    .dataframe thead th {\n",
       "        text-align: right;\n",
       "    }\n",
       "</style>\n",
       "<table border=\"1\" class=\"dataframe\">\n",
       "  <thead>\n",
       "    <tr style=\"text-align: right;\">\n",
       "      <th></th>\n",
       "      <th>first</th>\n",
       "      <th>second</th>\n",
       "      <th>third</th>\n",
       "      <th>fourth</th>\n",
       "    </tr>\n",
       "  </thead>\n",
       "  <tbody>\n",
       "    <tr>\n",
       "      <th>0</th>\n",
       "      <td>0.0</td>\n",
       "      <td>0.0</td>\n",
       "      <td>0.0</td>\n",
       "      <td>0.0</td>\n",
       "    </tr>\n",
       "    <tr>\n",
       "      <th>1</th>\n",
       "      <td>0.0</td>\n",
       "      <td>0.0</td>\n",
       "      <td>0.0</td>\n",
       "      <td>0.0</td>\n",
       "    </tr>\n",
       "    <tr>\n",
       "      <th>2</th>\n",
       "      <td>0.0</td>\n",
       "      <td>0.0</td>\n",
       "      <td>0.0</td>\n",
       "      <td>0.0</td>\n",
       "    </tr>\n",
       "  </tbody>\n",
       "</table>\n",
       "</div>"
      ]
     },
     "execution_count": 44,
     "metadata": {},
     "output_type": "execute_result"
    }
   ],
   "execution_count": 44
  }
 ],
 "metadata": {
  "kernelspec": {
   "display_name": "Python 3",
   "language": "python",
   "name": "python3"
  },
  "language_info": {
   "codemirror_mode": {
    "name": "ipython",
    "version": 2
   },
   "file_extension": ".py",
   "mimetype": "text/x-python",
   "name": "python",
   "nbconvert_exporter": "python",
   "pygments_lexer": "ipython2",
   "version": "2.7.6"
  }
 },
 "nbformat": 4,
 "nbformat_minor": 5
}
